{
 "cells": [
  {
   "cell_type": "code",
   "execution_count": null,
   "metadata": {},
   "outputs": [
    {
     "ename": "",
     "evalue": "",
     "output_type": "error",
     "traceback": [
      "\u001b[1;31mRunning cells with '/bin/python3' requires ipykernel package.\n",
      "\u001b[1;31mRun the following command to install 'ipykernel' into the Python environment. \n",
      "\u001b[1;31mCommand: '/bin/python3 -m pip install ipykernel -U --user --force-reinstall'"
     ]
    }
   ],
   "source": [
    "# 주석\n",
    "\n",
    "## 테스트용 추가 사항 \n",
    "## 의사 결정 필요 사항 ##\n",
    "#! 계절? \n",
    "#? 날짜로 결정할 것인가?\n",
    "#? 그렇다면 몇월부터 몇월까지 여름이고? 겨울인가?\n",
    "#? 봄,가을도 고려해야하는가?\n",
    "\n",
    "## 주요 ##\n",
    "#@ season(계절) - 봄?, 여름\n",
    "\n",
    "## 실내 ##\n",
    "#@ PM 2.5 - 좋음, 나쁨, 매우 나쁨\n",
    "#@ PM 10 - 좋음, 나쁨, 매우 나쁨\n",
    "#@ TVOC - 좋음, 나쁨, 매우 나쁨\n",
    "#@ CO2 - 좋음, 나쁨, 매우 나쁨\n",
    "#@ temperature(온도) - 숫자\n",
    "#@ humidity(습도) - 숫자\n",
    "\n",
    "## 실외 ##\n",
    "#@ PM 2.5 - 좋음, 나쁨, 매우 나쁨\n",
    "#@ PM 10 - 좋음, 나쁨, 매우 나쁨\n",
    "#@ temperature(온도) - 숫자\n",
    "#@ humidity(습도) - 숫자\n",
    "#// 오존 - 좋음, 나쁨, 매우 나쁨\n",
    "\n",
    "## 차이 변수 ##\n",
    "#@ temp_diff - 높음, 보통, 낮음\n",
    "#@ humi_diff - 높음, 보통, 낮음"
   ]
  },
  {
   "cell_type": "code",
   "execution_count": null,
   "metadata": {},
   "outputs": [],
   "source": [
    "def trans(x): #@ 문자형을 부등호 등 연산을 위해 숫자형으로 변경\n",
    "    if x in (\"좋음\",\"나쁨\",\"매우 나쁨\"):\n",
    "        if x == \"좋음\":\n",
    "            return 0\n",
    "        elif x == \"나쁨\":\n",
    "            return 1\n",
    "        else x:\n",
    "            return 2\n",
    "    else:\n",
    "        if x == \"낮음\":\n",
    "            return 0\n",
    "        elif x == \"보통\":\n",
    "            return 1\n",
    "        else x:\n",
    "            return 2        "
   ]
  },
  {
   "cell_type": "code",
   "execution_count": null,
   "metadata": {},
   "outputs": [],
   "source": [
    "def air(season, I_pm2, I_pm10, tvoc, co2, I_temp, I_humi, O_pm2, O_pm10, O_temp, O_humi, temp_diff, humi_diff):\n",
    "    I_pm = max(trans(I_pm2), trans(I_pm10), trans(tvoc))\n",
    "    O_pm = max(trans(O_pm2), trans(O_pm10))\n",
    "    \n",
    "    return "
   ]
  },
  {
   "cell_type": "code",
   "execution_count": null,
   "metadata": {},
   "outputs": [],
   "source": [
    "def tempHumi(season, I_pm2, I_pm10, tvoc, co2, I_temp, I_humi, O_pm2, O_pm10, O_temp, O_humi, temp_diff, humi_diff):\n",
    "    if season == '여름'\n",
    "    \n",
    "    \n",
    "    \n",
    "    \n",
    "    \n",
    "    \n",
    "    \n",
    "    \n",
    "    \n",
    "    return "
   ]
  },
  {
   "cell_type": "code",
   "execution_count": null,
   "metadata": {},
   "outputs": [],
   "source": [
    "def air_class(air,I_pm2, I_pm10, tvoc,co2, O_pm2, O_pm10):\n",
    "    if air=='pm2.5':\n",
    "        if (l_pm2 or O_pm2)<35:\n",
    "            return '좋음'\n",
    "        elif (l_pm2 or O_pm2)>=35 and (l_pm2 or O_pm2)<75:\n",
    "            return '나쁨'\n",
    "        else:\n",
    "            return '매우나쁨'\n",
    "    elif air=='pm10':\n",
    "        if (I_pm10 or O_pm10)<80:\n",
    "            return '좋음'\n",
    "        elif (I_pm10 or O_pm10)>=80 and (I_pm10 or O_pm10)<150:\n",
    "            return '나쁨'\n",
    "        else:\n",
    "            return '매우나쁨'\n",
    "    elif air=='co2':\n",
    "        if co2<1000:\n",
    "            return '좋음'\n",
    "        elif co2>=1000 and co2<1500:\n",
    "            return '나쁨'\n",
    "        else:\n",
    "            return '매우나쁨'\n",
    "    elif air=='tvoc':\n",
    "        if tvoc<660:\n",
    "            return '좋음'\n",
    "        elif tvoc>=660 and tvoc<2200:\n",
    "            return '나쁨'\n",
    "        else:\n",
    "            return '매우나쁨'"
   ]
  },
  {
   "cell_type": "code",
   "execution_count": 2,
   "metadata": {},
   "outputs": [
    {
     "data": {
      "text/plain": [
       "3"
      ]
     },
     "execution_count": 2,
     "metadata": {},
     "output_type": "execute_result"
    }
   ],
   "source": [
    "test_a = 1\n",
    "test_b = test_a + 2 \n",
    "test_b"
   ]
  }
 ],
 "metadata": {
  "kernelspec": {
   "display_name": "Python 3 (ipykernel)",
   "language": "python",
   "name": "python3"
  },
  "language_info": {
   "codemirror_mode": {
    "name": "ipython",
    "version": 3
   },
   "file_extension": ".py",
   "mimetype": "text/x-python",
   "name": "python",
   "nbconvert_exporter": "python",
   "pygments_lexer": "ipython3",
   "version": "3.9.7"
  },
  "vscode": {
   "interpreter": {
    "hash": "916dbcbb3f70747c44a77c7bcd40155683ae19c65e1c03b4aa3499c5328201f1"
   }
  }
 },
 "nbformat": 4,
 "nbformat_minor": 2
}
